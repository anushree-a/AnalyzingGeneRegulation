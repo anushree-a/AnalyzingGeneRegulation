{
 "cells": [
  {
   "cell_type": "code",
   "execution_count": 1,
   "metadata": {},
   "outputs": [],
   "source": [
    "import sys\n",
    "import os\n",
    "import subprocess\n"
   ]
  },
  {
   "cell_type": "code",
   "execution_count": 2,
   "metadata": {},
   "outputs": [],
   "source": [
    "filenames1 = ['ENCFF127XXD_H3K4me3.bed','ENCFF099LMD_H3K4me2.bed', 'ENCFF139CKE_H4K20me1.bed', 'ENCFF183UQD_H3K4me1.bed','ENCFF322IFF_H3K27me3.bed','ENCFF498CMP_H3K36me3.bed', 'ENCFF578UBP_H3K27ac.bed', 'ENCFF624XRN_H2AFZ.bed', 'ENCFF737AMS_H3K4me3.bed', 'ENCFF894VEM_H3K9me3.bed']"
   ]
  },
  {
   "cell_type": "code",
   "execution_count": 3,
   "metadata": {},
   "outputs": [
    {
     "data": {
      "text/plain": [
       "0"
      ]
     },
     "execution_count": 3,
     "metadata": {},
     "output_type": "execute_result"
    }
   ],
   "source": [
    "#creating class0 bed file w chr 1,8,21 using 10,000 random rows from the 11 files\n",
    "for i in range(len(filenames1)):\n",
    "    command=''' shuf -n 10000 '''+ filenames1[i] + ''' >> class0.bed'''\n",
    "    subprocess.call(command, shell=True)\n",
    "\n",
    "    \n",
    "#initializing filenames\n",
    "class0_11files_only1821_bed= \"inter_bed/class0_11files_only1821_test.bed\"\n",
    "\n",
    "\n",
    "\n",
    "#copy entries of chr1 from class0.bed to overall_chr1_class0.bed\n",
    "command = '''awk '/chr1\\t/' class0.bed >> '''+class0_11files_only1821_bed\n",
    "subprocess.call(command, shell=True)\n",
    "    \n",
    "    \n",
    "    \n",
    "#copy entries of chr8 to overall_chr8_class0.bed\n",
    "command = '''awk '/chr8\\t/' class0.bed >> '''+class0_11files_only1821_bed\n",
    "subprocess.call(command, shell=True)\n",
    "    \n",
    "    \n",
    "    \n",
    "#copy entries of chr21 to overall_chr21_class0.bed\n",
    "command = '''awk '/chr21\\t/' class0.bed  >> '''+class0_11files_only1821_bed\n",
    "subprocess.call(command, shell=True)\n",
    "\n",
    "\n",
    "\n",
    "#removing 1,8,21 from class0.bed because class0 will then be used to make training dataset and hence cannot have chr1,8,21\n",
    "command='''sed -i '/chr1\\t/d' ./class0.bed'''\n",
    "subprocess.call(command, shell=True)\n",
    "\n",
    "command='''sed -i '/chr8/d' ./class0.bed'''\n",
    "subprocess.call(command, shell=True)\n",
    "\n",
    "command='''sed -i '/chr21/d' ./class0.bed'''\n",
    "subprocess.call(command, shell=True)"
   ]
  },
  {
   "cell_type": "code",
   "execution_count": 4,
   "metadata": {},
   "outputs": [
    {
     "data": {
      "text/plain": [
       "0"
      ]
     },
     "execution_count": 4,
     "metadata": {},
     "output_type": "execute_result"
    }
   ],
   "source": [
    "#converting bed file of 10 columns to 4 column file, with 100 upstream/downstream\n",
    "command=''' echo \"$(awk '{print $1, $2+$10-100, $2+$10+100, $4}' class0.bed)\" > class0.bed'''\n",
    "subprocess.call(command, shell=True)"
   ]
  },
  {
   "cell_type": "code",
   "execution_count": 5,
   "metadata": {},
   "outputs": [],
   "source": [
    "#dropping peak info column and storing only 1st 3 columns\n",
    "# command=''' echo \"$(awk '{print $1, $2, $3}' class0.bed)\" > class0.bed '''\n",
    "# subprocess.call(command, shell=True)"
   ]
  },
  {
   "cell_type": "code",
   "execution_count": 6,
   "metadata": {},
   "outputs": [
    {
     "data": {
      "text/plain": [
       "0"
      ]
     },
     "execution_count": 6,
     "metadata": {},
     "output_type": "execute_result"
    }
   ],
   "source": [
    "#replacing spaces with tabs\n",
    "command=''' echo \"$(tr ' ' \\\\\\\\t < class0.bed)\" > class0.bed '''\n",
    "subprocess.call(command, shell=True)\n",
    "\n",
    "command=''' echo \"$(awk '{print $1, $2, $3,100}' class0.bed)\" > class0.bed'''\n",
    "subprocess.call(command, shell=True)"
   ]
  },
  {
   "cell_type": "code",
   "execution_count": null,
   "metadata": {},
   "outputs": [],
   "source": []
  },
  {
   "cell_type": "code",
   "execution_count": null,
   "metadata": {},
   "outputs": [],
   "source": []
  },
  {
   "cell_type": "code",
   "execution_count": null,
   "metadata": {},
   "outputs": [],
   "source": []
  }
 ],
 "metadata": {
  "kernelspec": {
   "display_name": "Python 2",
   "language": "python",
   "name": "python2"
  },
  "language_info": {
   "codemirror_mode": {
    "name": "ipython",
    "version": 2
   },
   "file_extension": ".py",
   "mimetype": "text/x-python",
   "name": "python",
   "nbconvert_exporter": "python",
   "pygments_lexer": "ipython2",
   "version": "2.7.15"
  }
 },
 "nbformat": 4,
 "nbformat_minor": 2
}
